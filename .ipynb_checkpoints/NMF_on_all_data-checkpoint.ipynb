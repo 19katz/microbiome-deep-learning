{
 "cells": [
  {
   "cell_type": "code",
   "execution_count": 1,
   "metadata": {},
   "outputs": [
    {
     "name": "stderr",
     "output_type": "stream",
     "text": [
      "/pollard/home/abustion/deep_learning_microbiome/scripts/stats_utils_AEB.py:2: UserWarning: matplotlib.pyplot as already been imported, this call will have no effect.\n",
      "  matplotlib.use('Agg') # this suppresses the console for plotting\n"
     ]
    }
   ],
   "source": [
    "import os\n",
    "import pandas as pd\n",
    "import numpy as np\n",
    "import csv\n",
    "\n",
    "from itertools import cycle, product\n",
    "import argparse\n",
    "import warnings\n",
    "\n",
    "from sklearn.preprocessing import normalize\n",
    "from sklearn.ensemble import RandomForestClassifier\n",
    "from sklearn.linear_model import LogisticRegression\n",
    "from sklearn.model_selection import GridSearchCV, cross_val_score, StratifiedKFold, RepeatedStratifiedKFold, train_test_split\n",
    "#from sklearn import cross_validation, metrics\n",
    "from sklearn.utils import shuffle\n",
    "from sklearn.decomposition import NMF\n",
    "from sklearn.exceptions import ConvergenceWarning\n",
    "\n",
    "import matplotlib\n",
    "from matplotlib import pylab\n",
    "import matplotlib.pyplot as plt\n",
    "from IPython.display import Image\n",
    "%config InlineBackend.figure_format = 'svg'\n",
    "\n",
    "# import private scripts\n",
    "import load_kmer_cnts_jf\n",
    "import stats_utils_AEB"
   ]
  },
  {
   "cell_type": "code",
   "execution_count": 2,
   "metadata": {},
   "outputs": [],
   "source": [
    "import pickle"
   ]
  },
  {
   "cell_type": "markdown",
   "metadata": {},
   "source": [
    "# testing testin"
   ]
  },
  {
   "cell_type": "code",
   "execution_count": null,
   "metadata": {},
   "outputs": [],
   "source": [
    "data_set = 'Zeller_2014'\n",
    "kmer_size = 5"
   ]
  },
  {
   "cell_type": "code",
   "execution_count": null,
   "metadata": {},
   "outputs": [],
   "source": [
    "data_set = [data_set]\n",
    "allowed_labels = ['0', '1']\n",
    "kmer_cnts, accessions, labelz, domain_labels = load_kmer_cnts_jf.load_kmers(kmer_size,\n",
    "                                                                            data_set,\n",
    "                                                                            allowed_labels)\n",
    "\n",
    "print(\"LOADED DATASET \" + str(data_set[0]) + \": \" + str(len(kmer_cnts)) + \" SAMPLES\")\n",
    "labelz=np.asarray(labelz)\n",
    "labelz=labelz.astype(np.int)"
   ]
  }
 ],
 "metadata": {
  "kernelspec": {
   "display_name": "Python 3",
   "language": "python",
   "name": "python3"
  },
  "language_info": {
   "codemirror_mode": {
    "name": "ipython",
    "version": 3
   },
   "file_extension": ".py",
   "mimetype": "text/x-python",
   "name": "python",
   "nbconvert_exporter": "python",
   "pygments_lexer": "ipython3",
   "version": "3.6.8"
  }
 },
 "nbformat": 4,
 "nbformat_minor": 2
}
